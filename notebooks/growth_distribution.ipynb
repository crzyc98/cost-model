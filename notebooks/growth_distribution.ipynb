{
 "cells": [
  {
   "cell_type": "code",
   "execution_count": 1,
   "metadata": {},
   "outputs": [
    {
     "ename": "NameError",
     "evalue": "name 'RetirementPlanModel' is not defined",
     "output_type": "error",
     "traceback": [
      "\u001b[0;31m---------------------------------------------------------------------------\u001b[0m",
      "\u001b[0;31mNameError\u001b[0m                                 Traceback (most recent call last)",
      "Cell \u001b[0;32mIn[1], line 37\u001b[0m\n\u001b[1;32m     34\u001b[0m     \u001b[38;5;28;01mreturn\u001b[39;00m results\n\u001b[1;32m     36\u001b[0m \u001b[38;5;66;03m# 3. Run many simulations\u001b[39;00m\n\u001b[0;32m---> 37\u001b[0m net_growths \u001b[38;5;241m=\u001b[39m \u001b[43mrun_net_growth\u001b[49m\u001b[43m(\u001b[49m\u001b[43mconfig\u001b[49m\u001b[43m,\u001b[49m\u001b[43m \u001b[49m\u001b[43mcensus_df\u001b[49m\u001b[43m,\u001b[49m\u001b[43m \u001b[49m\u001b[43mruns\u001b[49m\u001b[38;5;241;43m=\u001b[39;49m\u001b[38;5;241;43m300\u001b[39;49m\u001b[43m)\u001b[49m\n\u001b[1;32m     39\u001b[0m \u001b[38;5;66;03m# 4. Plot the distribution\u001b[39;00m\n\u001b[1;32m     40\u001b[0m plt\u001b[38;5;241m.\u001b[39mfigure(figsize\u001b[38;5;241m=\u001b[39m(\u001b[38;5;241m8\u001b[39m,\u001b[38;5;241m5\u001b[39m))\n",
      "Cell \u001b[0;32mIn[1], line 29\u001b[0m, in \u001b[0;36mrun_net_growth\u001b[0;34m(config, census_df, runs)\u001b[0m\n\u001b[1;32m     27\u001b[0m n0 \u001b[38;5;241m=\u001b[39m \u001b[38;5;28mlen\u001b[39m(census_df)\n\u001b[1;32m     28\u001b[0m \u001b[38;5;28;01mfor\u001b[39;00m i \u001b[38;5;129;01min\u001b[39;00m \u001b[38;5;28mrange\u001b[39m(runs):\n\u001b[0;32m---> 29\u001b[0m     model \u001b[38;5;241m=\u001b[39m \u001b[43mRetirementPlanModel\u001b[49m(census_df\u001b[38;5;241m.\u001b[39mcopy(), config)\n\u001b[1;32m     30\u001b[0m     \u001b[38;5;28;01mfor\u001b[39;00m _ \u001b[38;5;129;01min\u001b[39;00m \u001b[38;5;28mrange\u001b[39m(config[\u001b[38;5;124m\"\u001b[39m\u001b[38;5;124mprojection_years\u001b[39m\u001b[38;5;124m\"\u001b[39m]):\n\u001b[1;32m     31\u001b[0m         model\u001b[38;5;241m.\u001b[39mstep()\n",
      "\u001b[0;31mNameError\u001b[0m: name 'RetirementPlanModel' is not defined"
     ]
    }
   ],
   "source": [
    "# growth_distribution.ipynb\n",
    "\n",
    "%matplotlib inline\n",
    "import yaml\n",
    "import pandas as pd\n",
    "import matplotlib.pyplot as plt\n",
    "import seaborn as sns\n",
    "import os, pathlib\n",
    "\n",
    "# get project root (one level up from notebooks/)\n",
    "ROOT = pathlib.Path().resolve().parent\n",
    "\n",
    "config_path = ROOT / \"data\" / \"config.yaml\"\n",
    "census_path = ROOT / \"data\" / \"census_data.csv\"\n",
    "\n",
    "with open(config_path) as f:\n",
    "    config = yaml.safe_load(f)\n",
    "\n",
    "census_df = pd.read_csv(\n",
    "    census_path,\n",
    "    parse_dates=['birth_date','hire_date','termination_date']\n",
    ")\n",
    "\n",
    "# 2. Simulation function\n",
    "def run_net_growth(config, census_df, runs=500):\n",
    "    results = []\n",
    "    n0 = len(census_df)\n",
    "    for i in range(runs):\n",
    "        model = RetirementPlanModel(census_df.copy(), config)\n",
    "        for _ in range(config[\"projection_years\"]):\n",
    "            model.step()\n",
    "        n1 = sum(1 for a in model.population.values() if a.is_active)\n",
    "        results.append((n1 - n0) / n0)\n",
    "    return results\n",
    "\n",
    "# 3. Run many simulations\n",
    "net_growths = run_net_growth(config, census_df, runs=300)\n",
    "\n",
    "# 4. Plot the distribution\n",
    "plt.figure(figsize=(8,5))\n",
    "sns.histplot(net_growths, bins=30, kde=True, color=\"C0\")\n",
    "plt.axvline(x=config[\"annual_growth_rate\"], color=\"C1\", linestyle=\"--\",\n",
    "            label=f\"Target {config['annual_growth_rate']:.1%}\")\n",
    "plt.title(\"Distribution of Net Headcount Growth (% per year)\")\n",
    "plt.xlabel(\"Net Growth Rate\")\n",
    "plt.ylabel(\"Frequency\")\n",
    "plt.legend()\n",
    "plt.tight_layout()\n",
    "plt.show()\n",
    "\n",
    "# 5. (Optional) boxplot\n",
    "plt.figure(figsize=(4,2))\n",
    "sns.boxplot(x=net_growths, color=\"C2\")\n",
    "plt.xlabel(\"Net Growth Rate\")\n",
    "plt.title(\"Net Growth Boxplot\")\n",
    "plt.show()"
   ]
  }
 ],
 "metadata": {
  "kernelspec": {
   "display_name": ".venv",
   "language": "python",
   "name": "python3"
  },
  "language_info": {
   "codemirror_mode": {
    "name": "ipython",
    "version": 3
   },
   "file_extension": ".py",
   "mimetype": "text/x-python",
   "name": "python",
   "nbconvert_exporter": "python",
   "pygments_lexer": "ipython3",
   "version": "3.9.6"
  }
 },
 "nbformat": 4,
 "nbformat_minor": 2
}
