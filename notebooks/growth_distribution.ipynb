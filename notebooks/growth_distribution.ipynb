{
 "cells": [
  {
   "cell_type": "code",
   "execution_count": null,
   "metadata": {},
   "outputs": [
    {
     "name": "stderr",
     "output_type": "stream",
     "text": [
      "UsageError: Line magic function `%autoreload` not found.\n"
     ]
    }
   ],
   "source": [
    "# Remove or comment out these lines if you get errors\n",
    "# %load_ext autoreload\n",
    "# %autoreload 2"
   ]
  },
  {
   "cell_type": "code",
   "execution_count": null,
   "metadata": {},
   "outputs": [],
   "source": [
    "import pandas as pd\n",
    "\n",
    "# Set the scenario file you want to analyze\n",
    "csv_path = \"../output/debug_final_Baseline_ABM_raw.csv\"  # Update path as needed for different scenarios\n",
    "\n",
    "# Load the agent-level simulation results\n",
    "df = pd.read_csv(csv_path, parse_dates=[\n",
    "    \"birth_date\", \"hire_date\", \"termination_date\", \"plan_year_end_date\",\n",
    "    \"eligibility_entry_date\", \"enrollment_date\", \"first_contribution_date\",\n",
    "    \"ae_opt_out_date\", \"ae_window_start\", \"ae_window_end\"\n",
    "])\n",
    "\n",
    "# Quick preview\n",
    "df.head()"
   ]
  },
  {
   "cell_type": "code",
   "execution_count": null,
   "metadata": {},
   "outputs": [
    {
     "name": "stderr",
     "output_type": "stream",
     "text": [
      "INFO:root:Δ=180, T_ex_real=1164, T_ex_used=1164.00, T_nh=336, H_t=1680\n"
     ]
    },
    {
     "name": "stdout",
     "output_type": "stream",
     "text": [
      "Creating 1680 new agents (using realized T_ex=1164.00, target_g=2.00%) for year 2025...\n",
      "Creating 1680 new agents for year 2025 using census stats (Mean: 82371.41, StdDev: 71449.93)...\n",
      "Employment status counts for year 2025:\n",
      "  Previously Terminated: 1000\n",
      "  Active Continuous: 7836\n",
      "  Terminated: 1164\n",
      "  New Hire Active: 1344\n",
      "  New Hire Terminated: 336\n",
      "  New hires (is_new_hire=True): 1680\n",
      "--- Finished model step for year 2025 ---\n"
     ]
    },
    {
     "name": "stderr",
     "output_type": "stream",
     "text": [
      "INFO:root:Δ=184, T_ex_real=1176, T_ex_used=1176.00, T_nh=340, H_t=1700\n"
     ]
    },
    {
     "name": "stdout",
     "output_type": "stream",
     "text": [
      "Creating 1700 new agents (using realized T_ex=1176.00, target_g=2.00%) for year 2026...\n",
      "Creating 1700 new agents for year 2026 using census stats (Mean: 82371.41, StdDev: 71449.93)...\n",
      "Employment status counts for year 2026:\n",
      "  Previously Terminated: 2500\n",
      "  Active Continuous: 8004\n",
      "  Terminated: 1176\n",
      "  New Hire Active: 1360\n",
      "  New Hire Terminated: 340\n",
      "  New hires (is_new_hire=True): 1700\n",
      "--- Finished model step for year 2026 ---\n"
     ]
    },
    {
     "name": "stderr",
     "output_type": "stream",
     "text": [
      "INFO:root:Δ=187, T_ex_real=1211, T_ex_used=1211.00, T_nh=349, H_t=1747\n"
     ]
    },
    {
     "name": "stdout",
     "output_type": "stream",
     "text": [
      "Creating 1747 new agents (using realized T_ex=1211.00, target_g=2.00%) for year 2027...\n",
      "Creating 1747 new agents for year 2027 using census stats (Mean: 82371.41, StdDev: 71449.93)...\n",
      "Employment status counts for year 2027:\n",
      "  Previously Terminated: 4016\n",
      "  Terminated: 1211\n",
      "  Active Continuous: 8153\n",
      "  New Hire Terminated: 349\n",
      "  New Hire Active: 1398\n",
      "  New hires (is_new_hire=True): 1747\n",
      "--- Finished model step for year 2027 ---\n"
     ]
    },
    {
     "name": "stderr",
     "output_type": "stream",
     "text": [
      "INFO:root:Δ=191, T_ex_real=1220, T_ex_used=1220.00, T_nh=353, H_t=1763\n"
     ]
    },
    {
     "name": "stdout",
     "output_type": "stream",
     "text": [
      "Creating 1763 new agents (using realized T_ex=1220.00, target_g=2.00%) for year 2028...\n",
      "Creating 1763 new agents for year 2028 using census stats (Mean: 82371.41, StdDev: 71449.93)...\n",
      "Employment status counts for year 2028:\n",
      "  Previously Terminated: 5576\n",
      "  Active Continuous: 8331\n",
      "  Terminated: 1220\n",
      "  New Hire Active: 1410\n",
      "  New Hire Terminated: 353\n",
      "  New hires (is_new_hire=True): 1763\n",
      "--- Finished model step for year 2028 ---\n"
     ]
    },
    {
     "name": "stderr",
     "output_type": "stream",
     "text": [
      "INFO:root:Δ=195, T_ex_real=1218, T_ex_used=1218.00, T_nh=353, H_t=1766\n"
     ]
    },
    {
     "name": "stdout",
     "output_type": "stream",
     "text": [
      "Creating 1766 new agents (using realized T_ex=1218.00, target_g=2.00%) for year 2029...\n",
      "Creating 1766 new agents for year 2029 using census stats (Mean: 82371.41, StdDev: 71449.93)...\n"
     ]
    },
    {
     "name": "stderr",
     "output_type": "stream",
     "text": [
      "INFO:RetirementPlanModel:Parsed max match rate from '1.0_of_1.0_up_to_6.0_pct': 0.0600\n",
      "INFO:RetirementPlanModel:Calculated initial comp stats: Mean=82371.41, StdDev=71449.93\n"
     ]
    },
    {
     "name": "stdout",
     "output_type": "stream",
     "text": [
      "Employment status counts for year 2029:\n",
      "  Previously Terminated: 7149\n",
      "  Active Continuous: 8523\n",
      "  Terminated: 1218\n",
      "  New Hire Active: 1413\n",
      "  New Hire Terminated: 353\n",
      "  New hires (is_new_hire=True): 1766\n",
      "--- Finished model step for year 2029 ---\n"
     ]
    },
    {
     "name": "stderr",
     "output_type": "stream",
     "text": [
      "INFO:root:Δ=180, T_ex_real=1206, T_ex_used=1206.00, T_nh=346, H_t=1732\n"
     ]
    },
    {
     "name": "stdout",
     "output_type": "stream",
     "text": [
      "Creating 1732 new agents (using realized T_ex=1206.00, target_g=2.00%) for year 2025...\n",
      "Creating 1732 new agents for year 2025 using census stats (Mean: 82371.41, StdDev: 71449.93)...\n",
      "Employment status counts for year 2025:\n",
      "  Previously Terminated: 1000\n",
      "  Active Continuous: 7794\n",
      "  Terminated: 1206\n",
      "  New Hire Active: 1386\n",
      "  New Hire Terminated: 346\n",
      "  New hires (is_new_hire=True): 1732\n",
      "--- Finished model step for year 2025 ---\n"
     ]
    },
    {
     "name": "stderr",
     "output_type": "stream",
     "text": [
      "INFO:root:Δ=184, T_ex_real=1238, T_ex_used=1238.00, T_nh=355, H_t=1777\n"
     ]
    },
    {
     "name": "stdout",
     "output_type": "stream",
     "text": [
      "Creating 1777 new agents (using realized T_ex=1238.00, target_g=2.00%) for year 2026...\n",
      "Creating 1777 new agents for year 2026 using census stats (Mean: 82371.41, StdDev: 71449.93)...\n",
      "Employment status counts for year 2026:\n",
      "  Previously Terminated: 2552\n",
      "  Active Continuous: 7942\n",
      "  Terminated: 1238\n",
      "  New Hire Terminated: 355\n",
      "  New Hire Active: 1422\n",
      "  New hires (is_new_hire=True): 1777\n",
      "--- Finished model step for year 2026 ---\n"
     ]
    },
    {
     "name": "stderr",
     "output_type": "stream",
     "text": [
      "INFO:root:Δ=187, T_ex_real=1171, T_ex_used=1171.00, T_nh=339, H_t=1697\n"
     ]
    },
    {
     "name": "stdout",
     "output_type": "stream",
     "text": [
      "Creating 1697 new agents (using realized T_ex=1171.00, target_g=2.00%) for year 2027...\n",
      "Creating 1697 new agents for year 2027 using census stats (Mean: 82371.41, StdDev: 71449.93)...\n",
      "Employment status counts for year 2027:\n",
      "  Previously Terminated: 4145\n",
      "  Active Continuous: 8193\n",
      "  Terminated: 1171\n",
      "  New Hire Active: 1358\n",
      "  New Hire Terminated: 339\n",
      "  New hires (is_new_hire=True): 1697\n",
      "--- Finished model step for year 2027 ---\n"
     ]
    },
    {
     "name": "stderr",
     "output_type": "stream",
     "text": [
      "INFO:root:Δ=191, T_ex_real=1166, T_ex_used=1166.00, T_nh=339, H_t=1696\n"
     ]
    },
    {
     "name": "stdout",
     "output_type": "stream",
     "text": [
      "Creating 1696 new agents (using realized T_ex=1166.00, target_g=2.00%) for year 2028...\n",
      "Creating 1696 new agents for year 2028 using census stats (Mean: 82371.41, StdDev: 71449.93)...\n",
      "Employment status counts for year 2028:\n",
      "  Previously Terminated: 5655\n",
      "  Terminated: 1166\n",
      "  Active Continuous: 8385\n",
      "  New Hire Active: 1357\n",
      "  New Hire Terminated: 339\n",
      "  New hires (is_new_hire=True): 1696\n",
      "--- Finished model step for year 2028 ---\n"
     ]
    },
    {
     "name": "stderr",
     "output_type": "stream",
     "text": [
      "INFO:root:Δ=195, T_ex_real=1147, T_ex_used=1147.00, T_nh=335, H_t=1677\n"
     ]
    },
    {
     "name": "stdout",
     "output_type": "stream",
     "text": [
      "Creating 1677 new agents (using realized T_ex=1147.00, target_g=2.00%) for year 2029...\n",
      "Creating 1677 new agents for year 2029 using census stats (Mean: 82371.41, StdDev: 71449.93)...\n"
     ]
    },
    {
     "name": "stderr",
     "output_type": "stream",
     "text": [
      "INFO:RetirementPlanModel:Parsed max match rate from '1.0_of_1.0_up_to_6.0_pct': 0.0600\n",
      "INFO:RetirementPlanModel:Calculated initial comp stats: Mean=82371.41, StdDev=71449.93\n"
     ]
    },
    {
     "name": "stdout",
     "output_type": "stream",
     "text": [
      "Employment status counts for year 2029:\n",
      "  Previously Terminated: 7160\n",
      "  Active Continuous: 8595\n",
      "  Terminated: 1147\n",
      "  New Hire Active: 1342\n",
      "  New Hire Terminated: 335\n",
      "  New hires (is_new_hire=True): 1677\n",
      "--- Finished model step for year 2029 ---\n"
     ]
    },
    {
     "name": "stderr",
     "output_type": "stream",
     "text": [
      "INFO:root:Δ=180, T_ex_real=1207, T_ex_used=1207.00, T_nh=347, H_t=1733\n"
     ]
    },
    {
     "name": "stdout",
     "output_type": "stream",
     "text": [
      "Creating 1733 new agents (using realized T_ex=1207.00, target_g=2.00%) for year 2025...\n",
      "Creating 1733 new agents for year 2025 using census stats (Mean: 82371.41, StdDev: 71449.93)...\n",
      "Employment status counts for year 2025:\n",
      "  Previously Terminated: 1000\n",
      "  Active Continuous: 7793\n",
      "  Terminated: 1207\n",
      "  New Hire Active: 1386\n",
      "  New Hire Terminated: 347\n",
      "  New hires (is_new_hire=True): 1733\n",
      "--- Finished model step for year 2025 ---\n"
     ]
    },
    {
     "name": "stderr",
     "output_type": "stream",
     "text": [
      "INFO:root:Δ=184, T_ex_real=1191, T_ex_used=1191.00, T_nh=344, H_t=1718\n"
     ]
    },
    {
     "name": "stdout",
     "output_type": "stream",
     "text": [
      "Creating 1718 new agents (using realized T_ex=1191.00, target_g=2.00%) for year 2026...\n",
      "Creating 1718 new agents for year 2026 using census stats (Mean: 82371.41, StdDev: 71449.93)...\n",
      "Employment status counts for year 2026:\n",
      "  Previously Terminated: 2554\n",
      "  Active Continuous: 7988\n",
      "  Terminated: 1191\n",
      "  New Hire Active: 1374\n",
      "  New Hire Terminated: 344\n",
      "  New hires (is_new_hire=True): 1718\n",
      "--- Finished model step for year 2026 ---\n"
     ]
    },
    {
     "name": "stderr",
     "output_type": "stream",
     "text": [
      "INFO:root:Δ=187, T_ex_real=1184, T_ex_used=1184.00, T_nh=343, H_t=1713\n"
     ]
    },
    {
     "name": "stdout",
     "output_type": "stream",
     "text": [
      "Creating 1713 new agents (using realized T_ex=1184.00, target_g=2.00%) for year 2027...\n",
      "Creating 1713 new agents for year 2027 using census stats (Mean: 82371.41, StdDev: 71449.93)...\n",
      "Employment status counts for year 2027:\n",
      "  Previously Terminated: 4089\n",
      "  Terminated: 1184\n",
      "  Active Continuous: 8178\n",
      "  New Hire Terminated: 343\n",
      "  New Hire Active: 1370\n",
      "  New hires (is_new_hire=True): 1713\n",
      "--- Finished model step for year 2027 ---\n"
     ]
    },
    {
     "name": "stderr",
     "output_type": "stream",
     "text": [
      "INFO:root:Δ=191, T_ex_real=1189, T_ex_used=1189.00, T_nh=345, H_t=1725\n"
     ]
    },
    {
     "name": "stdout",
     "output_type": "stream",
     "text": [
      "Creating 1725 new agents (using realized T_ex=1189.00, target_g=2.00%) for year 2028...\n",
      "Creating 1725 new agents for year 2028 using census stats (Mean: 82371.41, StdDev: 71449.93)...\n"
     ]
    }
   ],
   "source": [
    "import matplotlib.pyplot as plt\n",
    "import seaborn as sns\n",
    "\n",
    "# Filter for active participants at plan year end\n",
    "active = df[df[\"status\"] == \"Active Continuous\"]\n",
    "\n",
    "plt.figure(figsize=(10,6))\n",
    "sns.histplot(data=active, x=\"gross_compensation\", hue=\"role\", bins=30, kde=True, element=\"step\")\n",
    "plt.title(\"Gross Compensation Distribution by Role (Active, Year {})\".format(active[\"Year\"].max()))\n",
    "plt.xlabel(\"Gross Compensation\")\n",
    "plt.ylabel(\"Number of Agents\")\n",
    "plt.legend(title=\"Role\")\n",
    "plt.tight_layout()\n",
    "plt.show()"
   ]
  },
  {
   "cell_type": "code",
   "execution_count": null,
   "metadata": {},
   "outputs": [],
   "source": [
    "**To analyze a different scenario:**  \n",
    "Change the value of `csv_path` in the cell above to the desired file, e.g.  \n",
    "`../output/debug_final_Proposed_ABM_raw.csv`"
   ]
  }
 ],
 "metadata": {
  "kernelspec": {
   "display_name": ".venv",
   "language": "python",
   "name": "python3"
  },
  "language_info": {
   "codemirror_mode": {
    "name": "ipython",
    "version": 3
   },
   "file_extension": ".py",
   "mimetype": "text/x-python",
   "name": "python",
   "nbconvert_exporter": "python",
   "pygments_lexer": "ipython3",
   "version": "3.9.6"
  }
 },
 "nbformat": 4,
 "nbformat_minor": 2
}
