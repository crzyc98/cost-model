{
 "cells": [
  {
   "cell_type": "code",
   "execution_count": null,
   "metadata": {},
   "outputs": [],
   "source": [
    "import os\n",
    "os.chdir('..')  # set cwd to project root"
   ]
  },
  {
   "cell_type": "code",
   "execution_count": null,
   "metadata": {},
   "outputs": [],
   "source": [
    "import os\n",
    "os.chdir('..')  # set cwd to project root"
   ]
  },
  {
   "cell_type": "markdown",
   "metadata": {},
   "source": [
    "# Survival Curve Plots\n",
    "Analyzing historical turnover by tenure cohorts using Kaplan–Meier."
   ]
  },
  {
   "cell_type": "code",
   "execution_count": null,
   "metadata": {},
   "outputs": [],
   "source": [
    "import pandas as pd\n",
    "from lifelines import KaplanMeierFitter\n",
    "import matplotlib.pyplot as plt"
   ]
  },
  {
   "cell_type": "code",
   "execution_count": null,
   "metadata": {},
   "outputs": [],
   "source": [
    "# Load historical turnover data\n",
    "df = pd.read_csv('../data/historical_turnover.csv', parse_dates=['hire_date','termination_date'])\n",
    "# Compute duration (years) and event observed flag\n",
    "df['duration'] = (df['termination_date'].fillna(pd.Timestamp.today()) - df['hire_date']).dt.days / 365\n",
    "df['event_observed'] = df['termination_date'].notna().astype(int)\n",
    "# Assign cohorts based on duration\n",
    "def assign_cohort(x):\n",
    "    if x <= 1: return '0-1yr'\n",
    "    elif x <= 3: return '1-3yr'\n",
    "    else: return '3+yr'\n",
    "df['cohort'] = df['duration'].apply(assign_cohort)"
   ]
  },
  {
   "cell_type": "code",
   "execution_count": null,
   "metadata": {},
   "outputs": [],
   "source": [
    "# Plot Kaplan–Meier survival curves by cohort\n",
    "kmf = KaplanMeierFitter()\n",
    "plt.figure(figsize=(8,6))\n",
    "for cohort, group in df.groupby('cohort'):\n",
    "    kmf.fit(group['duration'], group['event_observed'], label=cohort)\n",
    "    kmf.plot_survival_function(ci_show=False)\n",
    "plt.title('Survival Curves by Tenure Cohort')\n",
    "plt.xlabel('Years Since Hire')\n",
    "plt.ylabel('Survival Probability')\n",
    "plt.legend()\n",
    "plt.show()"
   ]
  }
 ],
 "metadata": {
  "kernelspec": {
   "display_name": "Python 3",
   "language": "python",
   "name": "python3"
  },
  "language_info": {
   "name": "python",
   "version": "3.x"
  }
 },
 "nbformat": 4,
 "nbformat_minor": 2
}
