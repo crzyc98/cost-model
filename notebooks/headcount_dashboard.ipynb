{
 "cells": [
  {
   "cell_type": "markdown",
   "metadata": {},
   "source": [
    "# Projection Results Dashboard\n",
    "\n",
    "This notebook creates interactive visualizations of headcount trends from the projection results."
   ]
  },
  {
   "cell_type": "code",
   "execution_count": 1,
   "metadata": {},
   "outputs": [],
   "source": [
    "import pandas as pd\n",
    "import numpy as np\n",
    "import matplotlib.pyplot as plt\n",
    "import seaborn as sns\n",
    "import plotly.express as px\n",
    "import plotly.graph_objects as go\n",
    "from pathlib import Path\n",
    "import os\n",
    "\n",
    "# Set up styling\n",
    "plt.style.use('ggplot')\n",
    "sns.set_theme(style=\"whitegrid\")\n",
    "\n",
    "# Define the results directory\n",
    "results_dir = Path('../output_dev/projection_cli_results')"
   ]
  },
  {
   "cell_type": "markdown",
   "metadata": {},
   "source": [
    "## Load Employment Status Summary\n",
    "\n",
    "First, let's load the employment status summary which contains headcount by category per year."
   ]
  },
  {
   "cell_type": "code",
   "execution_count": 2,
   "metadata": {},
   "outputs": [
    {
     "name": "stdout",
     "output_type": "stream",
     "text": [
      "Employment status data shape: (5, 6)\n"
     ]
    },
    {
     "data": {
      "text/html": [
       "<div>\n",
       "<style scoped>\n",
       "    .dataframe tbody tr th:only-of-type {\n",
       "        vertical-align: middle;\n",
       "    }\n",
       "\n",
       "    .dataframe tbody tr th {\n",
       "        vertical-align: top;\n",
       "    }\n",
       "\n",
       "    .dataframe thead th {\n",
       "        text-align: right;\n",
       "    }\n",
       "</style>\n",
       "<table border=\"1\" class=\"dataframe\">\n",
       "  <thead>\n",
       "    <tr style=\"text-align: right;\">\n",
       "      <th></th>\n",
       "      <th>year</th>\n",
       "      <th>active_at_year_start</th>\n",
       "      <th>active_at_year_end</th>\n",
       "      <th>new_hire_actives</th>\n",
       "      <th>new_hire_terms</th>\n",
       "      <th>experienced_terms</th>\n",
       "    </tr>\n",
       "  </thead>\n",
       "  <tbody>\n",
       "    <tr>\n",
       "      <th>0</th>\n",
       "      <td>2025</td>\n",
       "      <td>100</td>\n",
       "      <td>103</td>\n",
       "      <td>20</td>\n",
       "      <td>7</td>\n",
       "      <td>17</td>\n",
       "    </tr>\n",
       "    <tr>\n",
       "      <th>1</th>\n",
       "      <td>2026</td>\n",
       "      <td>103</td>\n",
       "      <td>107</td>\n",
       "      <td>32</td>\n",
       "      <td>10</td>\n",
       "      <td>28</td>\n",
       "    </tr>\n",
       "    <tr>\n",
       "      <th>2</th>\n",
       "      <td>2027</td>\n",
       "      <td>107</td>\n",
       "      <td>110</td>\n",
       "      <td>23</td>\n",
       "      <td>8</td>\n",
       "      <td>20</td>\n",
       "    </tr>\n",
       "    <tr>\n",
       "      <th>3</th>\n",
       "      <td>2028</td>\n",
       "      <td>110</td>\n",
       "      <td>113</td>\n",
       "      <td>36</td>\n",
       "      <td>12</td>\n",
       "      <td>33</td>\n",
       "    </tr>\n",
       "    <tr>\n",
       "      <th>4</th>\n",
       "      <td>2029</td>\n",
       "      <td>113</td>\n",
       "      <td>117</td>\n",
       "      <td>32</td>\n",
       "      <td>10</td>\n",
       "      <td>28</td>\n",
       "    </tr>\n",
       "  </tbody>\n",
       "</table>\n",
       "</div>"
      ],
      "text/plain": [
       "   year  active_at_year_start  active_at_year_end  new_hire_actives  \\\n",
       "0  2025                   100                 103                20   \n",
       "1  2026                   103                 107                32   \n",
       "2  2027                   107                 110                23   \n",
       "3  2028                   110                 113                36   \n",
       "4  2029                   113                 117                32   \n",
       "\n",
       "   new_hire_terms  experienced_terms  \n",
       "0               7                 17  \n",
       "1              10                 28  \n",
       "2               8                 20  \n",
       "3              12                 33  \n",
       "4              10                 28  "
      ]
     },
     "execution_count": 2,
     "metadata": {},
     "output_type": "execute_result"
    }
   ],
   "source": [
    "# Load the employment status summary\n",
    "emp_status_path = results_dir / 'projection_cli_employment_status_summary.parquet'\n",
    "emp_status_df = pd.read_parquet(emp_status_path)\n",
    "\n",
    "# Display the data\n",
    "print(f\"Employment status data shape: {emp_status_df.shape}\")\n",
    "emp_status_df"
   ]
  },
  {
   "cell_type": "markdown",
   "metadata": {},
   "source": [
    "## Load Yearly Snapshots\n",
    "\n",
    "Let's also load the yearly snapshots to get more detailed information."
   ]
  },
  {
   "cell_type": "code",
   "execution_count": 3,
   "metadata": {},
   "outputs": [
    {
     "data": {
      "text/html": [
       "<div>\n",
       "<style scoped>\n",
       "    .dataframe tbody tr th:only-of-type {\n",
       "        vertical-align: middle;\n",
       "    }\n",
       "\n",
       "    .dataframe tbody tr th {\n",
       "        vertical-align: top;\n",
       "    }\n",
       "\n",
       "    .dataframe thead th {\n",
       "        text-align: right;\n",
       "    }\n",
       "</style>\n",
       "<table border=\"1\" class=\"dataframe\">\n",
       "  <thead>\n",
       "    <tr style=\"text-align: right;\">\n",
       "      <th></th>\n",
       "      <th>Year</th>\n",
       "      <th>Active Headcount</th>\n",
       "    </tr>\n",
       "  </thead>\n",
       "  <tbody>\n",
       "    <tr>\n",
       "      <th>0</th>\n",
       "      <td>2025</td>\n",
       "      <td>103</td>\n",
       "    </tr>\n",
       "    <tr>\n",
       "      <th>2</th>\n",
       "      <td>2026</td>\n",
       "      <td>107</td>\n",
       "    </tr>\n",
       "    <tr>\n",
       "      <th>1</th>\n",
       "      <td>2027</td>\n",
       "      <td>110</td>\n",
       "    </tr>\n",
       "    <tr>\n",
       "      <th>4</th>\n",
       "      <td>2028</td>\n",
       "      <td>113</td>\n",
       "    </tr>\n",
       "    <tr>\n",
       "      <th>3</th>\n",
       "      <td>2029</td>\n",
       "      <td>117</td>\n",
       "    </tr>\n",
       "  </tbody>\n",
       "</table>\n",
       "</div>"
      ],
      "text/plain": [
       "   Year  Active Headcount\n",
       "0  2025               103\n",
       "2  2026               107\n",
       "1  2027               110\n",
       "4  2028               113\n",
       "3  2029               117"
      ]
     },
     "execution_count": 3,
     "metadata": {},
     "output_type": "execute_result"
    }
   ],
   "source": [
    "# Load yearly snapshots\n",
    "snapshots_dir = results_dir / 'yearly_snapshots'\n",
    "yearly_snapshots = {}\n",
    "yearly_counts = []\n",
    "\n",
    "for snapshot_file in snapshots_dir.glob('*.parquet'):\n",
    "    year = int(snapshot_file.stem.split('_')[-1])  # Extract year from filename\n",
    "    df = pd.read_parquet(snapshot_file)\n",
    "    yearly_snapshots[year] = df\n",
    "    \n",
    "    # Count active employees\n",
    "    active_count = df[df.get('active', False) == True].shape[0]\n",
    "    \n",
    "    # Count by tenure band if available\n",
    "    tenure_counts = {}\n",
    "    if 'tenure_band' in df.columns:\n",
    "        active_df = df[df.get('active', False) == True]\n",
    "        tenure_counts = active_df['tenure_band'].value_counts().to_dict()\n",
    "    \n",
    "    yearly_counts.append({\n",
    "        'Year': year,\n",
    "        'Active Headcount': active_count,\n",
    "        **{f\"Tenure {band}\": count for band, count in tenure_counts.items()}\n",
    "    })\n",
    "\n",
    "# Create a DataFrame with yearly counts\n",
    "yearly_counts_df = pd.DataFrame(yearly_counts).sort_values('Year')\n",
    "yearly_counts_df"
   ]
  },
  {
   "cell_type": "markdown",
   "metadata": {},
   "source": [
    "## Interactive Headcount Plot\n",
    "\n",
    "Now let's create an interactive plot of headcount vs. year using Plotly."
   ]
  },
  {
   "cell_type": "code",
   "execution_count": 4,
   "metadata": {},
   "outputs": [
    {
     "ename": "KeyError",
     "evalue": "\"None of [Index(['Year', 'Active', 'Continuous Active', 'New Hire Active',\\n       'Experienced Terminated', 'New Hire Terminated'],\\n      dtype='object')] are in the [columns]\"",
     "output_type": "error",
     "traceback": [
      "\u001b[0;31m---------------------------------------------------------------------------\u001b[0m",
      "\u001b[0;31mKeyError\u001b[0m                                  Traceback (most recent call last)",
      "Cell \u001b[0;32mIn[4], line 4\u001b[0m\n\u001b[1;32m      1\u001b[0m \u001b[38;5;66;03m# Create an interactive plot of headcount vs. year\u001b[39;00m\n\u001b[1;32m      2\u001b[0m \u001b[38;5;28;01mif\u001b[39;00m \u001b[38;5;129;01mnot\u001b[39;00m emp_status_df\u001b[38;5;241m.\u001b[39mempty:\n\u001b[1;32m      3\u001b[0m     \u001b[38;5;66;03m# Prepare data for plotting\u001b[39;00m\n\u001b[0;32m----> 4\u001b[0m     plot_data \u001b[38;5;241m=\u001b[39m \u001b[43memp_status_df\u001b[49m\u001b[43m[\u001b[49m\u001b[43m[\u001b[49m\u001b[38;5;124;43m'\u001b[39;49m\u001b[38;5;124;43mYear\u001b[39;49m\u001b[38;5;124;43m'\u001b[39;49m\u001b[43m,\u001b[49m\u001b[43m \u001b[49m\u001b[38;5;124;43m'\u001b[39;49m\u001b[38;5;124;43mActive\u001b[39;49m\u001b[38;5;124;43m'\u001b[39;49m\u001b[43m,\u001b[49m\u001b[43m \u001b[49m\u001b[38;5;124;43m'\u001b[39;49m\u001b[38;5;124;43mContinuous Active\u001b[39;49m\u001b[38;5;124;43m'\u001b[39;49m\u001b[43m,\u001b[49m\u001b[43m \u001b[49m\u001b[38;5;124;43m'\u001b[39;49m\u001b[38;5;124;43mNew Hire Active\u001b[39;49m\u001b[38;5;124;43m'\u001b[39;49m\u001b[43m,\u001b[49m\u001b[43m \u001b[49m\n\u001b[1;32m      5\u001b[0m \u001b[43m                              \u001b[49m\u001b[38;5;124;43m'\u001b[39;49m\u001b[38;5;124;43mExperienced Terminated\u001b[39;49m\u001b[38;5;124;43m'\u001b[39;49m\u001b[43m,\u001b[49m\u001b[43m \u001b[49m\u001b[38;5;124;43m'\u001b[39;49m\u001b[38;5;124;43mNew Hire Terminated\u001b[39;49m\u001b[38;5;124;43m'\u001b[39;49m\u001b[43m]\u001b[49m\u001b[43m]\u001b[49m\u001b[38;5;241m.\u001b[39mcopy()\n\u001b[1;32m      7\u001b[0m     \u001b[38;5;66;03m# Create the interactive plot\u001b[39;00m\n\u001b[1;32m      8\u001b[0m     fig \u001b[38;5;241m=\u001b[39m px\u001b[38;5;241m.\u001b[39mline(plot_data, x\u001b[38;5;241m=\u001b[39m\u001b[38;5;124m'\u001b[39m\u001b[38;5;124mYear\u001b[39m\u001b[38;5;124m'\u001b[39m, y\u001b[38;5;241m=\u001b[39m[\u001b[38;5;124m'\u001b[39m\u001b[38;5;124mActive\u001b[39m\u001b[38;5;124m'\u001b[39m, \u001b[38;5;124m'\u001b[39m\u001b[38;5;124mContinuous Active\u001b[39m\u001b[38;5;124m'\u001b[39m, \u001b[38;5;124m'\u001b[39m\u001b[38;5;124mNew Hire Active\u001b[39m\u001b[38;5;124m'\u001b[39m, \n\u001b[1;32m      9\u001b[0m                                          \u001b[38;5;124m'\u001b[39m\u001b[38;5;124mExperienced Terminated\u001b[39m\u001b[38;5;124m'\u001b[39m, \u001b[38;5;124m'\u001b[39m\u001b[38;5;124mNew Hire Terminated\u001b[39m\u001b[38;5;124m'\u001b[39m],\n\u001b[1;32m     10\u001b[0m                  title\u001b[38;5;241m=\u001b[39m\u001b[38;5;124m'\u001b[39m\u001b[38;5;124mHeadcount Trends by Employment Status\u001b[39m\u001b[38;5;124m'\u001b[39m,\n\u001b[1;32m     11\u001b[0m                  markers\u001b[38;5;241m=\u001b[39m\u001b[38;5;28;01mTrue\u001b[39;00m,\n\u001b[1;32m     12\u001b[0m                  labels\u001b[38;5;241m=\u001b[39m{\u001b[38;5;124m'\u001b[39m\u001b[38;5;124mvalue\u001b[39m\u001b[38;5;124m'\u001b[39m: \u001b[38;5;124m'\u001b[39m\u001b[38;5;124mCount\u001b[39m\u001b[38;5;124m'\u001b[39m, \u001b[38;5;124m'\u001b[39m\u001b[38;5;124mvariable\u001b[39m\u001b[38;5;124m'\u001b[39m: \u001b[38;5;124m'\u001b[39m\u001b[38;5;124mStatus\u001b[39m\u001b[38;5;124m'\u001b[39m},\n\u001b[1;32m     13\u001b[0m                  template\u001b[38;5;241m=\u001b[39m\u001b[38;5;124m'\u001b[39m\u001b[38;5;124mplotly_white\u001b[39m\u001b[38;5;124m'\u001b[39m)\n",
      "File \u001b[0;32m~/Library/Mobile Documents/com~apple~CloudDocs/Development/cost-model/.venv/lib/python3.11/site-packages/pandas/core/frame.py:4108\u001b[0m, in \u001b[0;36mDataFrame.__getitem__\u001b[0;34m(self, key)\u001b[0m\n\u001b[1;32m   4106\u001b[0m     \u001b[38;5;28;01mif\u001b[39;00m is_iterator(key):\n\u001b[1;32m   4107\u001b[0m         key \u001b[38;5;241m=\u001b[39m \u001b[38;5;28mlist\u001b[39m(key)\n\u001b[0;32m-> 4108\u001b[0m     indexer \u001b[38;5;241m=\u001b[39m \u001b[38;5;28;43mself\u001b[39;49m\u001b[38;5;241;43m.\u001b[39;49m\u001b[43mcolumns\u001b[49m\u001b[38;5;241;43m.\u001b[39;49m\u001b[43m_get_indexer_strict\u001b[49m\u001b[43m(\u001b[49m\u001b[43mkey\u001b[49m\u001b[43m,\u001b[49m\u001b[43m \u001b[49m\u001b[38;5;124;43m\"\u001b[39;49m\u001b[38;5;124;43mcolumns\u001b[39;49m\u001b[38;5;124;43m\"\u001b[39;49m\u001b[43m)\u001b[49m[\u001b[38;5;241m1\u001b[39m]\n\u001b[1;32m   4110\u001b[0m \u001b[38;5;66;03m# take() does not accept boolean indexers\u001b[39;00m\n\u001b[1;32m   4111\u001b[0m \u001b[38;5;28;01mif\u001b[39;00m \u001b[38;5;28mgetattr\u001b[39m(indexer, \u001b[38;5;124m\"\u001b[39m\u001b[38;5;124mdtype\u001b[39m\u001b[38;5;124m\"\u001b[39m, \u001b[38;5;28;01mNone\u001b[39;00m) \u001b[38;5;241m==\u001b[39m \u001b[38;5;28mbool\u001b[39m:\n",
      "File \u001b[0;32m~/Library/Mobile Documents/com~apple~CloudDocs/Development/cost-model/.venv/lib/python3.11/site-packages/pandas/core/indexes/base.py:6200\u001b[0m, in \u001b[0;36mIndex._get_indexer_strict\u001b[0;34m(self, key, axis_name)\u001b[0m\n\u001b[1;32m   6197\u001b[0m \u001b[38;5;28;01melse\u001b[39;00m:\n\u001b[1;32m   6198\u001b[0m     keyarr, indexer, new_indexer \u001b[38;5;241m=\u001b[39m \u001b[38;5;28mself\u001b[39m\u001b[38;5;241m.\u001b[39m_reindex_non_unique(keyarr)\n\u001b[0;32m-> 6200\u001b[0m \u001b[38;5;28;43mself\u001b[39;49m\u001b[38;5;241;43m.\u001b[39;49m\u001b[43m_raise_if_missing\u001b[49m\u001b[43m(\u001b[49m\u001b[43mkeyarr\u001b[49m\u001b[43m,\u001b[49m\u001b[43m \u001b[49m\u001b[43mindexer\u001b[49m\u001b[43m,\u001b[49m\u001b[43m \u001b[49m\u001b[43maxis_name\u001b[49m\u001b[43m)\u001b[49m\n\u001b[1;32m   6202\u001b[0m keyarr \u001b[38;5;241m=\u001b[39m \u001b[38;5;28mself\u001b[39m\u001b[38;5;241m.\u001b[39mtake(indexer)\n\u001b[1;32m   6203\u001b[0m \u001b[38;5;28;01mif\u001b[39;00m \u001b[38;5;28misinstance\u001b[39m(key, Index):\n\u001b[1;32m   6204\u001b[0m     \u001b[38;5;66;03m# GH 42790 - Preserve name from an Index\u001b[39;00m\n",
      "File \u001b[0;32m~/Library/Mobile Documents/com~apple~CloudDocs/Development/cost-model/.venv/lib/python3.11/site-packages/pandas/core/indexes/base.py:6249\u001b[0m, in \u001b[0;36mIndex._raise_if_missing\u001b[0;34m(self, key, indexer, axis_name)\u001b[0m\n\u001b[1;32m   6247\u001b[0m \u001b[38;5;28;01mif\u001b[39;00m nmissing:\n\u001b[1;32m   6248\u001b[0m     \u001b[38;5;28;01mif\u001b[39;00m nmissing \u001b[38;5;241m==\u001b[39m \u001b[38;5;28mlen\u001b[39m(indexer):\n\u001b[0;32m-> 6249\u001b[0m         \u001b[38;5;28;01mraise\u001b[39;00m \u001b[38;5;167;01mKeyError\u001b[39;00m(\u001b[38;5;124mf\u001b[39m\u001b[38;5;124m\"\u001b[39m\u001b[38;5;124mNone of [\u001b[39m\u001b[38;5;132;01m{\u001b[39;00mkey\u001b[38;5;132;01m}\u001b[39;00m\u001b[38;5;124m] are in the [\u001b[39m\u001b[38;5;132;01m{\u001b[39;00maxis_name\u001b[38;5;132;01m}\u001b[39;00m\u001b[38;5;124m]\u001b[39m\u001b[38;5;124m\"\u001b[39m)\n\u001b[1;32m   6251\u001b[0m     not_found \u001b[38;5;241m=\u001b[39m \u001b[38;5;28mlist\u001b[39m(ensure_index(key)[missing_mask\u001b[38;5;241m.\u001b[39mnonzero()[\u001b[38;5;241m0\u001b[39m]]\u001b[38;5;241m.\u001b[39munique())\n\u001b[1;32m   6252\u001b[0m     \u001b[38;5;28;01mraise\u001b[39;00m \u001b[38;5;167;01mKeyError\u001b[39;00m(\u001b[38;5;124mf\u001b[39m\u001b[38;5;124m\"\u001b[39m\u001b[38;5;132;01m{\u001b[39;00mnot_found\u001b[38;5;132;01m}\u001b[39;00m\u001b[38;5;124m not in index\u001b[39m\u001b[38;5;124m\"\u001b[39m)\n",
      "\u001b[0;31mKeyError\u001b[0m: \"None of [Index(['Year', 'Active', 'Continuous Active', 'New Hire Active',\\n       'Experienced Terminated', 'New Hire Terminated'],\\n      dtype='object')] are in the [columns]\""
     ]
    }
   ],
   "source": [
    "# Create an interactive plot of headcount vs. year\n",
    "if not emp_status_df.empty:\n",
    "    # Prepare data for plotting\n",
    "    plot_data = emp_status_df[['Year', 'Active', 'Continuous Active', 'New Hire Active', \n",
    "                              'Experienced Terminated', 'New Hire Terminated']].copy()\n",
    "    \n",
    "    # Create the interactive plot\n",
    "    fig = px.line(plot_data, x='Year', y=['Active', 'Continuous Active', 'New Hire Active', \n",
    "                                         'Experienced Terminated', 'New Hire Terminated'],\n",
    "                 title='Headcount Trends by Employment Status',\n",
    "                 markers=True,\n",
    "                 labels={'value': 'Count', 'variable': 'Status'},\n",
    "                 template='plotly_white')\n",
    "    \n",
    "    # Add data points with hover information\n",
    "    for column in ['Active', 'Continuous Active', 'New Hire Active', 'Experienced Terminated', 'New Hire Terminated']:\n",
    "        fig.add_trace(\n",
    "            go.Scatter(\n",
    "                x=plot_data['Year'],\n",
    "                y=plot_data[column],\n",
    "                mode='markers',\n",
    "                name=f'{column} (points)',\n",
    "                hovertemplate=f'{column}: %{{y}}<br>Year: %{{x}}<extra></extra>',\n",
    "                showlegend=False\n",
    "            )\n",
    "        )\n",
    "    \n",
    "    # Update layout\n",
    "    fig.update_layout(\n",
    "        xaxis=dict(tickmode='linear', dtick=1),\n",
    "        hovermode='closest',\n",
    "        legend=dict(orientation='h', yanchor='bottom', y=1.02, xanchor='right', x=1)\n",
    "    )\n",
    "    \n",
    "    fig.show()\n",
    "else:\n",
    "    # Use the yearly_counts_df if employment status data is not available\n",
    "    fig = px.line(yearly_counts_df, x='Year', y='Active Headcount',\n",
    "                 title='Active Headcount by Year',\n",
    "                 markers=True,\n",
    "                 labels={'Active Headcount': 'Count'},\n",
    "                 template='plotly_white')\n",
    "    \n",
    "    fig.update_layout(\n",
    "        xaxis=dict(tickmode='linear', dtick=1),\n",
    "        hovermode='closest'\n",
    "    )\n",
    "    \n",
    "    fig.show()"
   ]
  },
  {
   "cell_type": "markdown",
   "metadata": {},
   "source": [
    "## Stacked Area Chart of Employment Status\n",
    "\n",
    "Let's create a stacked area chart to visualize the composition of the workforce over time."
   ]
  },
  {
   "cell_type": "code",
   "execution_count": null,
   "metadata": {},
   "outputs": [],
   "source": [
    "if not emp_status_df.empty:\n",
    "    # Create a stacked area chart\n",
    "    fig = px.area(plot_data, x='Year', \n",
    "                 y=['Continuous Active', 'New Hire Active', 'Experienced Terminated', 'New Hire Terminated'],\n",
    "                 title='Workforce Composition Over Time',\n",
    "                 labels={'value': 'Count', 'variable': 'Status'},\n",
    "                 template='plotly_white')\n",
    "    \n",
    "    fig.update_layout(\n",
    "        xaxis=dict(tickmode='linear', dtick=1),\n",
    "        hovermode='x unified',\n",
    "        legend=dict(orientation='h', yanchor='bottom', y=1.02, xanchor='right', x=1)\n",
    "    )\n",
    "    \n",
    "    fig.show()"
   ]
  },
  {
   "cell_type": "markdown",
   "metadata": {},
   "source": [
    "## Tenure Band Analysis\n",
    "\n",
    "If tenure band data is available, let's visualize the distribution of employees by tenure."
   ]
  },
  {
   "cell_type": "code",
   "execution_count": null,
   "metadata": {},
   "outputs": [],
   "source": [
    "# Check if we have tenure band data\n",
    "tenure_columns = [col for col in yearly_counts_df.columns if col.startswith('Tenure ')]\n",
    "\n",
    "if tenure_columns:\n",
    "    # Create a stacked bar chart of tenure bands\n",
    "    fig = px.bar(yearly_counts_df, x='Year', y=tenure_columns,\n",
    "                title='Active Employees by Tenure Band',\n",
    "                labels={'value': 'Count', 'variable': 'Tenure Band'},\n",
    "                template='plotly_white')\n",
    "    \n",
    "    fig.update_layout(\n",
    "        xaxis=dict(tickmode='linear', dtick=1),\n",
    "        hovermode='x unified',\n",
    "        barmode='stack',\n",
    "        legend=dict(orientation='h', yanchor='bottom', y=1.02, xanchor='right', x=1)\n",
    "    )\n",
    "    \n",
    "    fig.show()"
   ]
  },
  {
   "cell_type": "markdown",
   "metadata": {},
   "source": [
    "## Summary Statistics\n",
    "\n",
    "Let's also look at the overall summary statistics."
   ]
  },
  {
   "cell_type": "code",
   "execution_count": null,
   "metadata": {},
   "outputs": [],
   "source": [
    "# Load summary statistics\n",
    "stats_path = results_dir / 'projection_cli_summary_statistics.parquet'\n",
    "if stats_path.exists():\n",
    "    stats_df = pd.read_parquet(stats_path)\n",
    "    print(f\"Summary statistics data shape: {stats_df.shape}\")\n",
    "    stats_df"
   ]
  },
  {
   "cell_type": "code",
   "execution_count": null,
   "metadata": {},
   "outputs": [],
   "source": [
    "# If we have summary statistics, create visualizations for key metrics\n",
    "if 'stats_df' in locals() and not stats_df.empty:\n",
    "    # Select numeric columns that might be interesting to plot\n",
    "    numeric_cols = stats_df.select_dtypes(include=['number']).columns.tolist()\n",
    "    year_col = 'Year' if 'Year' in stats_df.columns else stats_df.index.name\n",
    "    \n",
    "    # Create subplots for key metrics\n",
    "    metrics_to_plot = [col for col in numeric_cols if col != year_col and 'Headcount' in col or 'Count' in col or 'Rate' in col]\n",
    "    \n",
    "    if metrics_to_plot:\n",
    "        fig = px.line(stats_df, x=year_col, y=metrics_to_plot[:5],  # Limit to 5 metrics for readability\n",
    "                     title='Key Metrics Over Time',\n",
    "                     markers=True,\n",
    "                     labels={'value': 'Value', 'variable': 'Metric'},\n",
    "                     template='plotly_white')\n",
    "        \n",
    "        fig.update_layout(\n",
    "            xaxis=dict(tickmode='linear', dtick=1),\n",
    "            hovermode='x unified',\n",
    "            legend=dict(orientation='h', yanchor='bottom', y=1.02, xanchor='right', x=1)\n",
    "        )\n",
    "        \n",
    "        fig.show()"
   ]
  },
  {
   "cell_type": "markdown",
   "metadata": {},
   "source": [
    "## Experienced Terminated Analysis\n",
    "\n",
    "Let's specifically look at the 'Experienced Terminated' category, which was the focus of our investigation."
   ]
  },
  {
   "cell_type": "code",
   "execution_count": null,
   "metadata": {},
   "outputs": [],
   "source": [
    "if not emp_status_df.empty and 'Experienced Terminated' in emp_status_df.columns:\n",
    "    # Create a focused plot on Experienced Terminated\n",
    "    fig = px.bar(emp_status_df, x='Year', y='Experienced Terminated',\n",
    "                title='Experienced Terminated Employees by Year',\n",
    "                labels={'Experienced Terminated': 'Count'},\n",
    "                template='plotly_white')\n",
    "    \n",
    "    # Add a line for the percentage of experienced terminated relative to active\n",
    "    emp_status_df['Experienced Terminated %'] = (emp_status_df['Experienced Terminated'] / \n",
    "                                               emp_status_df['Active']) * 100\n",
    "    \n",
    "    fig.add_trace(\n",
    "        go.Scatter(\n",
    "            x=emp_status_df['Year'],\n",
    "            y=emp_status_df['Experienced Terminated %'],\n",
    "            mode='lines+markers',\n",
    "            name='% of Active',\n",
    "            yaxis='y2',\n",
    "            line=dict(color='red'),\n",
    "            hovertemplate='%{y:.1f}% of Active<extra></extra>'\n",
    "        )\n",
    "    )\n",
    "    \n",
    "    fig.update_layout(\n",
    "        xaxis=dict(tickmode='linear', dtick=1),\n",
    "        yaxis2=dict(\n",
    "            title='Percentage of Active',\n",
    "            overlaying='y',\n",
    "            side='right',\n",
    "            range=[0, max(emp_status_df['Experienced Terminated %']) * 1.2]\n",
    "        ),\n",
    "        hovermode='x unified'\n",
    "    )\n",
    "    \n",
    "    fig.show()"
   ]
  }
 ],
 "metadata": {
  "kernelspec": {
   "display_name": ".venv",
   "language": "python",
   "name": "python3"
  },
  "language_info": {
   "codemirror_mode": {
    "name": "ipython",
    "version": 3
   },
   "file_extension": ".py",
   "mimetype": "text/x-python",
   "name": "python",
   "nbconvert_exporter": "python",
   "pygments_lexer": "ipython3",
   "version": "3.11.12"
  }
 },
 "nbformat": 4,
 "nbformat_minor": 4
}
