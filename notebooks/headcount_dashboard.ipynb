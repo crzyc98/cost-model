{
 "cells": [
  {
   "cell_type": "markdown",
   "metadata": {},
   "source": [
    "# Projection Results Dashboard\n",
    "\n",
    "This notebook creates interactive visualizations of headcount trends from the projection results."
   ]
  },
  {
   "cell_type": "code",
   "execution_count": null,
   "metadata": {},
   "source": [
    "import pandas as pd\n",
    "import numpy as np\n",
    "import matplotlib.pyplot as plt\n",
    "import seaborn as sns\n",
    "import plotly.express as px\n",
    "import plotly.graph_objects as go\n",
    "from pathlib import Path\n",
    "import os\n",
    "\n",
    "# Set up styling\n",
    "plt.style.use('ggplot')\n",
    "sns.set_theme(style=\"whitegrid\")\n",
    "\n",
    "# Define the results directory\n",
    "results_dir = Path('../output_dev/projection_cli_results')"
   ]
  },
  {
   "cell_type": "markdown",
   "metadata": {},
   "source": [
    "## Load Employment Status Summary\n",
    "\n",
    "First, let's load the employment status summary which contains headcount by category per year."
   ]
  },
  {
   "cell_type": "code",
   "execution_count": null,
   "metadata": {},
   "source": [
    "# Load the employment status summary\n",
    "emp_status_path = results_dir / 'projection_cli_employment_status_summary.parquet'\n",
    "emp_status_df = pd.read_parquet(emp_status_path)\n",
    "\n",
    "# Display the data\n",
    "print(f\"Employment status data shape: {emp_status_df.shape}\")\n",
    "emp_status_df"
   ]
  },
  {
   "cell_type": "markdown",
   "metadata": {},
   "source": [
    "## Load Yearly Snapshots\n",
    "\n",
    "Let's also load the yearly snapshots to get more detailed information."
   ]
  },
  {
   "cell_type": "code",
   "execution_count": null,
   "metadata": {},
   "source": [
    "# Load yearly snapshots\n",
    "snapshots_dir = results_dir / 'yearly_snapshots'\n",
    "yearly_snapshots = {}\n",
    "yearly_counts = []\n",
    "\n",
    "for snapshot_file in snapshots_dir.glob('*.parquet'):\n",
    "    year = int(snapshot_file.stem.split('_')[-1])  # Extract year from filename\n",
    "    df = pd.read_parquet(snapshot_file)\n",
    "    yearly_snapshots[year] = df\n",
    "    \n",
    "    # Count active employees\n",
    "    active_count = df[df.get('active', False) == True].shape[0]\n",
    "    \n",
    "    # Count by tenure band if available\n",
    "    tenure_counts = {}\n",
    "    if 'tenure_band' in df.columns:\n",
    "        active_df = df[df.get('active', False) == True]\n",
    "        tenure_counts = active_df['tenure_band'].value_counts().to_dict()\n",
    "    \n",
    "    yearly_counts.append({\n",
    "        'Year': year,\n",
    "        'Active Headcount': active_count,\n",
    "        **{f\"Tenure {band}\": count for band, count in tenure_counts.items()}\n",
    "    })\n",
    "\n",
    "# Create a DataFrame with yearly counts\n",
    "yearly_counts_df = pd.DataFrame(yearly_counts).sort_values('Year')\n",
    "yearly_counts_df"
   ]
  },
  {
   "cell_type": "markdown",
   "metadata": {},
   "source": [
    "## Interactive Headcount Plot\n",
    "\n",
    "Now let's create an interactive plot of headcount vs. year using Plotly."
   ]
  },
  {
   "cell_type": "code",
   "execution_count": null,
   "metadata": {},
   "source": [
    "# Create an interactive plot of headcount vs. year\n",
    "if not emp_status_df.empty:\n",
    "    # Prepare data for plotting\n",
    "    plot_data = emp_status_df[['Year', 'Active', 'Continuous Active', 'New Hire Active', \n",
    "                              'Experienced Terminated', 'New Hire Terminated']].copy()\n",
    "    \n",
    "    # Create the interactive plot\n",
    "    fig = px.line(plot_data, x='Year', y=['Active', 'Continuous Active', 'New Hire Active', \n",
    "                                         'Experienced Terminated', 'New Hire Terminated'],\n",
    "                 title='Headcount Trends by Employment Status',\n",
    "                 markers=True,\n",
    "                 labels={'value': 'Count', 'variable': 'Status'},\n",
    "                 template='plotly_white')\n",
    "    \n",
    "    # Add data points with hover information\n",
    "    for column in ['Active', 'Continuous Active', 'New Hire Active', 'Experienced Terminated', 'New Hire Terminated']:\n",
    "        fig.add_trace(\n",
    "            go.Scatter(\n",
    "                x=plot_data['Year'],\n",
    "                y=plot_data[column],\n",
    "                mode='markers',\n",
    "                name=f'{column} (points)',\n",
    "                hovertemplate=f'{column}: %{{y}}<br>Year: %{{x}}<extra></extra>',\n",
    "                showlegend=False\n",
    "            )\n",
    "        )\n",
    "    \n",
    "    # Update layout\n",
    "    fig.update_layout(\n",
    "        xaxis=dict(tickmode='linear', dtick=1),\n",
    "        hovermode='closest',\n",
    "        legend=dict(orientation='h', yanchor='bottom', y=1.02, xanchor='right', x=1)\n",
    "    )\n",
    "    \n",
    "    fig.show()\n",
    "else:\n",
    "    # Use the yearly_counts_df if employment status data is not available\n",
    "    fig = px.line(yearly_counts_df, x='Year', y='Active Headcount',\n",
    "                 title='Active Headcount by Year',\n",
    "                 markers=True,\n",
    "                 labels={'Active Headcount': 'Count'},\n",
    "                 template='plotly_white')\n",
    "    \n",
    "    fig.update_layout(\n",
    "        xaxis=dict(tickmode='linear', dtick=1),\n",
    "        hovermode='closest'\n",
    "    )\n",
    "    \n",
    "    fig.show()"
   ]
  },
  {
   "cell_type": "markdown",
   "metadata": {},
   "source": [
    "## Stacked Area Chart of Employment Status\n",
    "\n",
    "Let's create a stacked area chart to visualize the composition of the workforce over time."
   ]
  },
  {
   "cell_type": "code",
   "execution_count": null,
   "metadata": {},
   "source": [
    "if not emp_status_df.empty:\n",
    "    # Create a stacked area chart\n",
    "    fig = px.area(plot_data, x='Year', \n",
    "                 y=['Continuous Active', 'New Hire Active', 'Experienced Terminated', 'New Hire Terminated'],\n",
    "                 title='Workforce Composition Over Time',\n",
    "                 labels={'value': 'Count', 'variable': 'Status'},\n",
    "                 template='plotly_white')\n",
    "    \n",
    "    fig.update_layout(\n",
    "        xaxis=dict(tickmode='linear', dtick=1),\n",
    "        hovermode='x unified',\n",
    "        legend=dict(orientation='h', yanchor='bottom', y=1.02, xanchor='right', x=1)\n",
    "    )\n",
    "    \n",
    "    fig.show()"
   ]
  },
  {
   "cell_type": "markdown",
   "metadata": {},
   "source": [
    "## Tenure Band Analysis\n",
    "\n",
    "If tenure band data is available, let's visualize the distribution of employees by tenure."
   ]
  },
  {
   "cell_type": "code",
   "execution_count": null,
   "metadata": {},
   "source": [
    "# Check if we have tenure band data\n",
    "tenure_columns = [col for col in yearly_counts_df.columns if col.startswith('Tenure ')]\n",
    "\n",
    "if tenure_columns:\n",
    "    # Create a stacked bar chart of tenure bands\n",
    "    fig = px.bar(yearly_counts_df, x='Year', y=tenure_columns,\n",
    "                title='Active Employees by Tenure Band',\n",
    "                labels={'value': 'Count', 'variable': 'Tenure Band'},\n",
    "                template='plotly_white')\n",
    "    \n",
    "    fig.update_layout(\n",
    "        xaxis=dict(tickmode='linear', dtick=1),\n",
    "        hovermode='x unified',\n",
    "        barmode='stack',\n",
    "        legend=dict(orientation='h', yanchor='bottom', y=1.02, xanchor='right', x=1)\n",
    "    )\n",
    "    \n",
    "    fig.show()"
   ]
  },
  {
   "cell_type": "markdown",
   "metadata": {},
   "source": [
    "## Summary Statistics\n",
    "\n",
    "Let's also look at the overall summary statistics."
   ]
  },
  {
   "cell_type": "code",
   "execution_count": null,
   "metadata": {},
   "source": [
    "# Load summary statistics\n",
    "stats_path = results_dir / 'projection_cli_summary_statistics.parquet'\n",
    "if stats_path.exists():\n",
    "    stats_df = pd.read_parquet(stats_path)\n",
    "    print(f\"Summary statistics data shape: {stats_df.shape}\")\n",
    "    stats_df"
   ]
  },
  {
   "cell_type": "code",
   "execution_count": null,
   "metadata": {},
   "source": [
    "# If we have summary statistics, create visualizations for key metrics\n",
    "if 'stats_df' in locals() and not stats_df.empty:\n",
    "    # Select numeric columns that might be interesting to plot\n",
    "    numeric_cols = stats_df.select_dtypes(include=['number']).columns.tolist()\n",
    "    year_col = 'Year' if 'Year' in stats_df.columns else stats_df.index.name\n",
    "    \n",
    "    # Create subplots for key metrics\n",
    "    metrics_to_plot = [col for col in numeric_cols if col != year_col and 'Headcount' in col or 'Count' in col or 'Rate' in col]\n",
    "    \n",
    "    if metrics_to_plot:\n",
    "        fig = px.line(stats_df, x=year_col, y=metrics_to_plot[:5],  # Limit to 5 metrics for readability\n",
    "                     title='Key Metrics Over Time',\n",
    "                     markers=True,\n",
    "                     labels={'value': 'Value', 'variable': 'Metric'},\n",
    "                     template='plotly_white')\n",
    "        \n",
    "        fig.update_layout(\n",
    "            xaxis=dict(tickmode='linear', dtick=1),\n",
    "            hovermode='x unified',\n",
    "            legend=dict(orientation='h', yanchor='bottom', y=1.02, xanchor='right', x=1)\n",
    "        )\n",
    "        \n",
    "        fig.show()"
   ]
  },
  {
   "cell_type": "markdown",
   "metadata": {},
   "source": [
    "## Experienced Terminated Analysis\n",
    "\n",
    "Let's specifically look at the 'Experienced Terminated' category, which was the focus of our investigation."
   ]
  },
  {
   "cell_type": "code",
   "execution_count": null,
   "metadata": {},
   "source": [
    "if not emp_status_df.empty and 'Experienced Terminated' in emp_status_df.columns:\n",
    "    # Create a focused plot on Experienced Terminated\n",
    "    fig = px.bar(emp_status_df, x='Year', y='Experienced Terminated',\n",
    "                title='Experienced Terminated Employees by Year',\n",
    "                labels={'Experienced Terminated': 'Count'},\n",
    "                template='plotly_white')\n",
    "    \n",
    "    # Add a line for the percentage of experienced terminated relative to active\n",
    "    emp_status_df['Experienced Terminated %'] = (emp_status_df['Experienced Terminated'] / \n",
    "                                               emp_status_df['Active']) * 100\n",
    "    \n",
    "    fig.add_trace(\n",
    "        go.Scatter(\n",
    "            x=emp_status_df['Year'],\n",
    "            y=emp_status_df['Experienced Terminated %'],\n",
    "            mode='lines+markers',\n",
    "            name='% of Active',\n",
    "            yaxis='y2',\n",
    "            line=dict(color='red'),\n",
    "            hovertemplate='%{y:.1f}% of Active<extra></extra>'\n",
    "        )\n",
    "    )\n",
    "    \n",
    "    fig.update_layout(\n",
    "        xaxis=dict(tickmode='linear', dtick=1),\n",
    "        yaxis2=dict(\n",
    "            title='Percentage of Active',\n",
    "            overlaying='y',\n",
    "            side='right',\n",
    "            range=[0, max(emp_status_df['Experienced Terminated %']) * 1.2]\n",
    "        ),\n",
    "        hovermode='x unified'\n",
    "    )\n",
    "    \n",
    "    fig.show()"
   ]
  }
 ],
 "metadata": {
  "kernelspec": {
   "display_name": "Python 3",
   "language": "python",
   "name": "python3"
  },
  "language_info": {
   "codemirror_mode": {
    "name": "ipython",
    "version": 3
   },
   "file_extension": ".py",
   "mimetype": "text/x-python",
   "name": "python",
   "nbconvert_exporter": "python",
   "pygments_lexer": "ipython3",
   "version": "3.9.13"
  }
 },
 "nbformat": 4,
 "nbformat_minor": 4
}
